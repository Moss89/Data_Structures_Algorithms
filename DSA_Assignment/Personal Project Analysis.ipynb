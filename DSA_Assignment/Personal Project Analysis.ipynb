{
 "cells": [
  {
   "cell_type": "markdown",
   "metadata": {},
   "source": [
    "# Tomas Murphy 06488587\n",
    "\n",
    "## Imports"
   ]
  },
  {
   "cell_type": "code",
   "execution_count": 8,
   "metadata": {},
   "outputs": [],
   "source": [
    "from DataStructures import create_airport_list, createAircrafts, getRoute, Airport\n",
    "import pandas as pd\n",
    "test_df = pd.read_csv(\"test.csv\")\n",
    "airport_df = pd.read_csv(\"airport.csv\")\n",
    "country_currency_df = pd.read_csv(\"countrycurrency.csv\")\n",
    "currency_rates_df = pd.read_csv(\"currencyrates.csv\")\n",
    "aircraft_df = pd.read_csv(\"aircraft.csv\")\n",
    "airport_currencies_df = airport_df.merge(country_currency_df.rename(columns={\"name\":\"Country\"}), on=\"Country\")\n",
    "merged_df = airport_currencies_df.merge(currency_rates_df.rename(columns={\"CurrencyCode\":\"currency_alphabetic_code\"}), on=\"currency_alphabetic_code\")\n",
    "airports = create_airport_list(merged_df)\n",
    "aircrafts = createAircrafts(aircraft_df)"
   ]
  },
  {
   "cell_type": "code",
   "execution_count": 9,
   "metadata": {},
   "outputs": [],
   "source": [
    "# Import pandas and math \n",
    "import pandas as pd\n",
    "import math\n",
    "import unittest"
   ]
  },
  {
   "cell_type": "markdown",
   "metadata": {},
   "source": [
    "# My Aircraft Class\n",
    "\n",
    "#### This class was made to create aircraft for the assignment. A full list of methods and their descriptions can be found in the comments in the cell below. \n",
    "\n",
    "#### Correctness: Passed all unit tests\n",
    "\n",
    "#### Speed: 5.46 ms to read the aircraft data from a CSV, create aircraft objects based on the data, store them in a list, and print them. Due to using basic python code, there are no performance issues.\n",
    "\n",
    "#### Efficiency: Setting and getting variables in a standard Python way. Constant time operations. \n",
    "\n",
    "#### Security: Name mangling for \"private\" variable types. Getters and setters (encapsulation).\n",
    "\n",
    "#### Robustness: The class will run efficiently if the passed CSV files contain the correct data. This inputted is tested and altered as necessary (see design).\n",
    "\n",
    "#### Clarity: Code is indented and commented, with multiple cells used to break up code.\n",
    "\n",
    "#### Maintainability: Code commented and laid out in segments for easier searching and alterations. Encapsulation helps with changing functionality behind the scenes.\n",
    "\n",
    "### Design\n",
    "\n",
    "#### Scalabilty: This class could be reused in another program which takes fuel capacity and units into account. As many aircraft as needed can be made with the class.\n",
    "\n",
    "#### Robustness: Conversion from imperial to metric to ensure kilometers are used. If/else used to ensure plane isn't overfuelled. "
   ]
  },
  {
   "cell_type": "markdown",
   "metadata": {},
   "source": [
    "### Note: This was how the class looked originally. Later I realised that an aircraft's max fuel equals the max distance as 1L = 1KM, so if two airports fall within an aircraft's max distance, then we just had to multiply the distance by the currency to get the cost. Therefore, only the __init__ and get_maxfuel methods were used in the final code; the rest was superfluous."
   ]
  },
  {
   "cell_type": "code",
   "execution_count": 10,
   "metadata": {},
   "outputs": [],
   "source": [
    "\n",
    "# Create class for aircraft\n",
    "\n",
    "class Aircraft:\n",
    "    \n",
    "    # Methods included in the class:\n",
    "    \"\"\"Methods\n",
    "    __init__:               Object initialisation\n",
    "    __repr__:               Print out Aircraft information\n",
    "    set_fuel:               Set the fuel amount\n",
    "    get_fuel:               Return the fuel amount\n",
    "    get_name:               Return the Aircraft name\n",
    "    get_units:              Return the Aircraft units\n",
    "    get_maxfuel:            Return the Aircraft's max fuel\n",
    "    refuel:                 Return confirmation if plane refueled\n",
    "    get_fuel_needed:        Return the fuel needed for a route\n",
    "    find_journey_cost:      Return the cost for a route\n",
    "    \"\"\"\n",
    "\n",
    "    def __init__(self, name='', units='metric', fuelcapacity=0 ):\n",
    "        self.__name = name    # Aircraft name\n",
    "        self.__fuel = 0       # Current fuel in aircraft\n",
    "        self.__max_Fuel = fuelcapacity # Max fuel capacity (range is 1km per 1 litre, so aircraft range = max fuel capacity)\n",
    "        self.__units = units # units of measurement: metric or imperial\n",
    "        \n",
    "        \n",
    "        # If the range is not in metric, convert imperial to metric\n",
    "        if self.__units != \"metric\":\n",
    "            self.__max_Fuel = round((self.__max_Fuel * 1.60934),2)\n",
    "            \n",
    "            \n",
    "        # Used to print out details of the aircraft (used for testing purposes mainly)\n",
    "    def __repr__(self):\n",
    "        return \"Aircraft name: %s aircraft fuel capacity: %s Aircraft units: %s\" % (self.get_name(), self.get_maxfuel(), \n",
    "                                                                                    self.get_units())\n",
    "      \n",
    "       # Set the fuel level of the aircraft\n",
    "    def set_fuel(self, fuel):\n",
    "        if self.__fuel + fuel <= self.__max_Fuel:    # Ensure the fueling doesn't exceed the aircraft's max capacity\n",
    "            self.__fuel = fuel\n",
    "        else:\n",
    "            print(\"Improper amount requested.\")  \n",
    "            \n",
    "        # Get the current fuel levels\n",
    "    def get_fuel(self):\n",
    "        return self.__fuel\n",
    "\n",
    "        # Get the aircraft name\n",
    "    def get_name(self):\n",
    "        return self.__name\n",
    "    \n",
    "        # Get the unit type: metric or imperial\n",
    "    def get_units(self):\n",
    "        return self.__units\n",
    "    \n",
    "        # Get fuel capacity\n",
    "    def get_maxfuel(self):\n",
    "        return self.__max_Fuel\n",
    "      \n",
    "      # Add necessary amount of fuel for the flight\n",
    "    def refuel(self, current_airport, destination_airport): \n",
    "        fuel_needed = self.get_fuel_needed(current_airport, destination_airport)\n",
    "        self.set_fuel(fuel_needed)\n",
    "        return \"Plane refueled\"\n",
    "\n",
    "      # Calculate fuel needed for the flight\n",
    "    def get_fuel_needed(self, current_airport, destination):\n",
    "        fuel_needed = current_airport.get_distance(destination)\n",
    "        return fuel_needed\n",
    "    \n",
    "# Constant time operations\n",
    "      \n",
    "     \n"
   ]
  },
  {
   "cell_type": "markdown",
   "metadata": {},
   "source": [
    "## Create a dictionary containing every Aircraft object"
   ]
  },
  {
   "cell_type": "code",
   "execution_count": 11,
   "metadata": {
    "scrolled": true
   },
   "outputs": [],
   "source": [
    "def createAircrafts(aircraft_df):\n",
    "    aircrafts = {}\n",
    "    for i in range(len(aircraft_df)):\n",
    "        name = aircraft_df[\"code\"][i]\n",
    "        units = aircraft_df[\"units\"][i]\n",
    "        fuelcap = aircraft_df[\"range\"][i]\n",
    "        aircrafts[name] = Aircraft(name, units, fuelcap)\n",
    "    return aircrafts\n",
    "\n",
    "# n time complexity (linear)"
   ]
  },
  {
   "cell_type": "code",
   "execution_count": 12,
   "metadata": {},
   "outputs": [
    {
     "name": "stdout",
     "output_type": "stream",
     "text": [
      "Wall time: 995 µs\n"
     ]
    },
    {
     "data": {
      "text/plain": [
       "{'A319': Aircraft name: A319 aircraft fuel capacity: 3750 Aircraft units: metric,\n",
       " 'A320': Aircraft name: A320 aircraft fuel capacity: 12000 Aircraft units: metric,\n",
       " 'A321': Aircraft name: A321 aircraft fuel capacity: 12000 Aircraft units: metric,\n",
       " 'A330': Aircraft name: A330 aircraft fuel capacity: 13430 Aircraft units: metric,\n",
       " '737': Aircraft name: 737 aircraft fuel capacity: 9012.3 Aircraft units: imperial,\n",
       " '747': Aircraft name: 747 aircraft fuel capacity: 15771.53 Aircraft units: imperial,\n",
       " '757': Aircraft name: 757 aircraft fuel capacity: 11622.65 Aircraft units: imperial,\n",
       " '767': Aircraft name: 767 aircraft fuel capacity: 11474.59 Aircraft units: imperial,\n",
       " '777': Aircraft name: 777 aircraft fuel capacity: 15610.6 Aircraft units: imperial,\n",
       " 'BAE146': Aircraft name: BAE146 aircraft fuel capacity: 2909 Aircraft units: metric,\n",
       " 'DC8': Aircraft name: DC8 aircraft fuel capacity: 7724.83 Aircraft units: imperial,\n",
       " 'F50': Aircraft name: F50 aircraft fuel capacity: 2055 Aircraft units: metric,\n",
       " 'MD11': Aircraft name: MD11 aircraft fuel capacity: 20390.34 Aircraft units: imperial,\n",
       " 'A400M': Aircraft name: A400M aircraft fuel capacity: 3298 Aircraft units: metric,\n",
       " 'C212': Aircraft name: C212 aircraft fuel capacity: 1811 Aircraft units: metric,\n",
       " 'V22': Aircraft name: V22 aircraft fuel capacity: 2610.35 Aircraft units: imperial,\n",
       " 'BB1': Aircraft name: BB1 aircraft fuel capacity: 1627.04 Aircraft units: imperial,\n",
       " 'BA10': Aircraft name: BA10 aircraft fuel capacity: 1371.16 Aircraft units: imperial,\n",
       " 'SIS99': Aircraft name: SIS99 aircraft fuel capacity: 1300.35 Aircraft units: imperial,\n",
       " 'SAH': Aircraft name: SAH aircraft fuel capacity: 1300.35 Aircraft units: imperial}"
      ]
     },
     "execution_count": 12,
     "metadata": {},
     "output_type": "execute_result"
    }
   ],
   "source": [
    "%%time\n",
    "createAircrafts(aircraft_df)"
   ]
  },
  {
   "cell_type": "markdown",
   "metadata": {},
   "source": [
    "## Unit tests"
   ]
  },
  {
   "cell_type": "code",
   "execution_count": 13,
   "metadata": {},
   "outputs": [
    {
     "name": "stderr",
     "output_type": "stream",
     "text": [
      "test_create_aircraft (__main__.aircraft_unit_tests) ... ok\n",
      "test_get_distance (__main__.aircraft_unit_tests) ... ok\n",
      "test_get_fuel (__main__.aircraft_unit_tests) ... ok\n",
      "test_get_fuel_needed (__main__.aircraft_unit_tests) ... ok\n",
      "test_get_maxfuel (__main__.aircraft_unit_tests) ... ok\n",
      "test_get_name (__main__.aircraft_unit_tests) ... ok\n",
      "test_get_units (__main__.aircraft_unit_tests) ... ok\n",
      "test_refuel (__main__.aircraft_unit_tests) ... ok\n",
      "test_repr (__main__.aircraft_unit_tests) ... "
     ]
    },
    {
     "name": "stdout",
     "output_type": "stream",
     "text": [
      "Wall time: 11 ms\n"
     ]
    },
    {
     "name": "stderr",
     "output_type": "stream",
     "text": [
      "ok\n",
      "\n",
      "----------------------------------------------------------------------\n",
      "Ran 9 tests in 0.009s\n",
      "\n",
      "OK\n"
     ]
    }
   ],
   "source": [
    "%%time\n",
    "\n",
    "class aircraft_unit_tests(unittest.TestCase):\n",
    "    \n",
    "    # An aircraft will have a default fuel of 0 after creation.\n",
    "    \n",
    "        def test_get_fuel(self):\n",
    "            a = Aircraft(\"Boeing101\", \"metric\", 500)\n",
    "            self.assertTrue(a.get_fuel() == 0)\n",
    "\n",
    "        def test_get_name(self):\n",
    "            a = Aircraft(\"Boeing101\", \"metric\", 500)\n",
    "            self.assertTrue(a.get_name() == \"Boeing101\")\n",
    "\n",
    "        def test_repr(self):\n",
    "            a = Aircraft(\"Boeing101\", \"metric\", 1000)\n",
    "            self.assertTrue(a.__repr__() == \"Aircraft name: Boeing101 aircraft fuel capacity: 1000 Aircraft units: metric\")\n",
    "\n",
    "        def test_get_distance(self):\n",
    "            lhr = Airport(\"LHR\", 51.470600, -0.461941, 1.4029)\n",
    "            dub = Airport(\"DUB\", 53.421299, -6.270070)\n",
    "            self.assertTrue(lhr.get_distance(dub) == 449)\n",
    "            \n",
    "        def test_refuel(self):\n",
    "            lhr = Airport(\"LHR\", 51.470600, -0.461941, 1.4029)\n",
    "            dub = Airport(\"DUB\", 53.421299, -6.270070)\n",
    "            a = Aircraft(\"Boeing101\", \"metric\", 500)\n",
    "            a.refuel(lhr, dub)\n",
    "            self.assertTrue(a.get_fuel() == 449)\n",
    "\n",
    "        def test_get_maxfuel(self):\n",
    "            a = Aircraft(\"Boeing101\", \"metric\", 500)\n",
    "            self.assertTrue(a.get_maxfuel() == 500)\n",
    "            \n",
    "        def test_get_units(self):\n",
    "            a = Aircraft(\"Boeing101\", \"imperial\", 500)\n",
    "            self.assertTrue(a.get_units() == \"imperial\")\n",
    "\n",
    "            \n",
    "        def test_get_fuel_needed(self):\n",
    "            lhr = Airport(\"LHR\", 51.470600, -0.461941, 1.4029)\n",
    "            dub = Airport(\"DUB\", 53.421299, -6.270070)\n",
    "            a = Aircraft(\"Boeing101\", \"metric\", 500)\n",
    "            self.assertTrue(a.get_fuel_needed(lhr,dub) == 449)\n",
    "            \n",
    "        def test_create_aircraft(self):\n",
    "            createAircrafts(aircraft_df)\n",
    "            self.assertTrue(len(aircrafts) == 20)\n",
    "        \n",
    "    \n",
    "unittest.main(argv=[''], verbosity=2, exit=False)\n"
   ]
  },
  {
   "cell_type": "markdown",
   "metadata": {},
   "source": [
    "# Brute force route finding (unoptimised)\n",
    "\n",
    "#### These methods were created to find the cheapest route by creating all permutations, choosing only those which started with the start airport chosen, and then calculating the cost of these remaining routes. \n",
    "\n",
    "#### Correctness: Passed all unit tests\n",
    "\n",
    "#### Speed: \n",
    "\n",
    "Create Permutations: 8.58 µs\n",
    "\n",
    "Remove unwanted permutations: 6.6 µs\n",
    "\n",
    "Calculate cost per permutation: 926 µs\n",
    "\n",
    "#### Efficiency: \n",
    "Create Permutations: n!\n",
    "\n",
    "Remove unwanted permutations: n\n",
    "\n",
    "Calculate cost per permutation: n^2\n",
    "\n",
    "#### Security: The code is in methods, and thus aids encapsulation.\n",
    "\n",
    "#### Robustness: If jumps are invalid or impossible, the next route is considered.\n",
    "\n",
    "#### Clarity: Code is indented and commented, with multiple cells used to break up code.\n",
    "\n",
    "#### Maintainability: Code commented and laid out in segments for easier searching and alterations. Encapsulation helps with changing functionality behind the scenes.\n",
    "\n",
    "### Design\n",
    "\n",
    "#### Scalabilty: These methods can handle any number of input, but due to the n! big O of finding permutations, it may become slow for very large inputs.\n",
    "\n",
    "#### Robustness: If an airport is out of range, then that route is disregarded and the next route is checked, and so on."
   ]
  },
  {
   "cell_type": "code",
   "execution_count": 14,
   "metadata": {},
   "outputs": [],
   "source": [
    "import itertools\n",
    "# Get all route permutations \n",
    "def createPermutations(route):\n",
    "    return list(itertools.permutations(route))\n",
    "\n",
    "# n!"
   ]
  },
  {
   "cell_type": "code",
   "execution_count": 15,
   "metadata": {},
   "outputs": [],
   "source": [
    "# Get permutations where the start airport = the inputted airport, and end airport is = \"HOM\".\n",
    "\n",
    "def removeUnwantedPermutations(airport, permutations):\n",
    "    desiredPermutations = []\n",
    "    for i in permutations:\n",
    "        if i[0] == airport:\n",
    "            desiredPermutations.append(i)\n",
    "    return desiredPermutations\n",
    "\n",
    "# n runtime complexity"
   ]
  },
  {
   "cell_type": "code",
   "execution_count": 16,
   "metadata": {},
   "outputs": [],
   "source": [
    "# Calculate the costs of the remaining permutations and return the route with the lowest cost. \n",
    "\n",
    "def calculateCostPerPermutation(permutations, aircraftRange, airports):\n",
    "    # Store routes and associated costs in a dictionary\n",
    "    cost_dict = {}\n",
    "    # The start is the first airport in the permutations\n",
    "    start = permutations[0][0]\n",
    "    ans = \"\"\n",
    "    # Loop through the permutations\n",
    "    for i in permutations:\n",
    "        route = [start]\n",
    "        total = 0\n",
    "        # Loop through the airports in the permutation\n",
    "        for j in range(1, len(i)):\n",
    "            # Get the distance between the airports in the permutation, if it's out of range, break\n",
    "            nextJump = airports.search(i[j-1]).get_distance(airports.search(i[j]))\n",
    "            if nextJump > aircraftRange:\n",
    "                break\n",
    "                # Multiply distance by cost, and add the cost to the total\n",
    "            total += nextJump * airports.search(i[j-1]).get_conversion_rate()\n",
    "                # Add the airports to the route\n",
    "            route.append(i[j])\n",
    "            \n",
    "            \n",
    "        # Calculate jump to return home\n",
    "        nextJump = airports.search(i[-1]).get_distance(airports.search(start))\n",
    "        # If the jump to the start airport is not possible, we continue to the next permutation\n",
    "        if nextJump > aircraftRange:\n",
    "            continue\n",
    "        # Calculate trip cost to the start airport\n",
    "        total += nextJump * airports.search(i[-1]).get_conversion_rate()\n",
    "        # Add the trip to the start airport to the route\n",
    "        route += [start]    \n",
    "        # Store the cost and route in the dictionary\n",
    "        cost_dict[total] = route\n",
    "    # Find the minimum cost\n",
    "    minimum_cost = min(cost_dict)\n",
    "    # Find the route associated with the minimum cost\n",
    "    ans = cost_dict[minimum_cost]       \n",
    "    \n",
    "    # Return route and cost\n",
    "    return ans, minimum_cost\n",
    "\n",
    "# n squared complexity "
   ]
  },
  {
   "cell_type": "markdown",
   "metadata": {},
   "source": [
    "## Brute Force Timing Tests"
   ]
  },
  {
   "cell_type": "code",
   "execution_count": 17,
   "metadata": {},
   "outputs": [],
   "source": [
    "route = getRoute(test_df,1)\n",
    "t1 = createPermutations(route)\n",
    "t2 = removeUnwantedPermutations(route[0], t1)\n",
    "t3 = calculateCostPerPermutation(t2, aircrafts[\"A330\"].get_maxfuel(), airports)"
   ]
  },
  {
   "cell_type": "code",
   "execution_count": 18,
   "metadata": {},
   "outputs": [
    {
     "name": "stdout",
     "output_type": "stream",
     "text": [
      "559 µs ± 67.4 µs per loop (mean ± std. dev. of 7 runs, 1000 loops each)\n"
     ]
    }
   ],
   "source": [
    "%%timeit\n",
    "route = getRoute(test_df,1)"
   ]
  },
  {
   "cell_type": "code",
   "execution_count": 19,
   "metadata": {},
   "outputs": [
    {
     "name": "stdout",
     "output_type": "stream",
     "text": [
      "7.98 µs ± 498 ns per loop (mean ± std. dev. of 7 runs, 100000 loops each)\n"
     ]
    }
   ],
   "source": [
    "%%timeit\n",
    "t1 = createPermutations(route)\n"
   ]
  },
  {
   "cell_type": "code",
   "execution_count": 20,
   "metadata": {},
   "outputs": [
    {
     "name": "stdout",
     "output_type": "stream",
     "text": [
      "6.92 µs ± 242 ns per loop (mean ± std. dev. of 7 runs, 100000 loops each)\n"
     ]
    }
   ],
   "source": [
    "%%timeit\n",
    "t2 = removeUnwantedPermutations(route[0], t1)\n"
   ]
  },
  {
   "cell_type": "code",
   "execution_count": 21,
   "metadata": {},
   "outputs": [
    {
     "name": "stdout",
     "output_type": "stream",
     "text": [
      "1.12 ms ± 60.4 µs per loop (mean ± std. dev. of 7 runs, 1000 loops each)\n"
     ]
    }
   ],
   "source": [
    "%%timeit\n",
    "t3 = calculateCostPerPermutation(t2, aircrafts[\"A330\"].get_maxfuel(), airports)\n"
   ]
  },
  {
   "cell_type": "markdown",
   "metadata": {},
   "source": [
    "## Unit tests"
   ]
  },
  {
   "cell_type": "code",
   "execution_count": 22,
   "metadata": {
    "scrolled": false
   },
   "outputs": [
    {
     "name": "stderr",
     "output_type": "stream",
     "text": [
      "test_create_aircraft (__main__.aircraft_unit_tests) ... ok\n",
      "test_get_distance (__main__.aircraft_unit_tests) ... ok\n",
      "test_get_fuel (__main__.aircraft_unit_tests) ... ok\n",
      "test_get_fuel_needed (__main__.aircraft_unit_tests) ... ok\n",
      "test_get_maxfuel (__main__.aircraft_unit_tests) ... ok\n",
      "test_get_name (__main__.aircraft_unit_tests) ... ok\n",
      "test_get_units (__main__.aircraft_unit_tests) ... ok\n",
      "test_refuel (__main__.aircraft_unit_tests) ... ok\n",
      "test_repr (__main__.aircraft_unit_tests) ... ok\n",
      "test_calculateCostPerPermutation (__main__.bruteF_unit_tests) ... ok\n",
      "test_create_permutations (__main__.bruteF_unit_tests) ... ok\n",
      "test_removeUnwantedPermutations (__main__.bruteF_unit_tests) ... ok\n",
      "\n",
      "----------------------------------------------------------------------\n",
      "Ran 12 tests in 0.017s\n",
      "\n",
      "OK\n"
     ]
    },
    {
     "data": {
      "text/plain": [
       "<unittest.main.TestProgram at 0x203a755b2e8>"
      ]
     },
     "execution_count": 22,
     "metadata": {},
     "output_type": "execute_result"
    }
   ],
   "source": [
    "class bruteF_unit_tests(unittest.TestCase):\n",
    "       \n",
    "    def test_create_permutations(self):\n",
    "        airports = {'DUB':\"dublin\",'WEX': \"Wexford\"}\n",
    "        self.assertTrue(createPermutations(airports) == [('DUB', 'WEX'), ('WEX', 'DUB')])\n",
    "           \n",
    "    def test_removeUnwantedPermutations(self):\n",
    "        airport = 'DUB'\n",
    "        permutations = [('DUB', 'WEX', 'HOM'), ('WEX', 'DUB', 'HOM')]\n",
    "        self.assertTrue(removeUnwantedPermutations(airport, permutations) == [('DUB', 'WEX', 'HOM')])\n",
    " \n",
    "    def test_calculateCostPerPermutation(self):\n",
    "        route = getRoute(test_df,1)\n",
    "        t1 = createPermutations(route)\n",
    "        t2 = removeUnwantedPermutations(route[0], t1)\n",
    "        self.assertTrue(calculateCostPerPermutation(t2,aircrafts[\"A330\"].get_maxfuel(),airports) == (['SNN', 'ORK', 'CDG', 'SIN', 'MAN', 'SNN'], 19773.0925))\n",
    "    \n",
    "unittest.main(argv=[''], verbosity=2, exit=False)\n",
    "#     def test_createPermutations(self):\n",
    "        "
   ]
  },
  {
   "cell_type": "markdown",
   "metadata": {},
   "source": [
    "# Linked List"
   ]
  },
  {
   "cell_type": "markdown",
   "metadata": {},
   "source": [
    "### The following is the code for a linked list data structure which we planned to use to store the airport permutations, to show we could create various data structures. However, in order for itertools to work, it requires a data structure with index based access to work, and therefore a Linked List was not suitable.  \n",
    "\n",
    "#### However, it is ready for go on any missions it's needed on in the future.\n",
    "\n",
    "#### A full list of methods and their descriptions can be found in the comments in the cell below.\n",
    "\n",
    "#### Correctness: Passed all unit tests\n",
    "\n",
    "#### Speed:\n",
    "\n",
    "#### Linked list vs Python dictionary\n",
    "\n",
    "#### Create = \n",
    " - Linked list 308ns\n",
    " - Python Dict 38ns\n",
    "\n",
    "#### Check if empty =\n",
    "- Linked list 150ns\n",
    "- Python Dict 96ns\n",
    "\n",
    "#### Insert 11 elements =\n",
    "- Linked list 8.96 µs\n",
    "- Python Dict 703 ns\n",
    "\n",
    "#### Efficiency:\n",
    " \n",
    "- find head = constant\n",
    "- find tail = constant\n",
    "- insert at x = constant if on the node, otherwise n\n",
    "- insert at head = constant\n",
    "- insert at tail = constant as it's stored\n",
    "- traverse = n\n",
    "- size = constant, as it's stored\n",
    "- search = constant if on the node, otherwise n\n",
    "- empty = constant\n",
    "- remove = constant if on the node, otherwise n\n",
    "\n",
    "#### Security: Name mangling for \"private\" variable types. Getters and setters (encapsulation).\n",
    "\n",
    "#### Robustness: Code breaking commands were considered and dealt with (see design). \n",
    "\n",
    "#### Clarity: Code is indented and commented, with multiple cells used to break up code.\n",
    "\n",
    "#### Maintainability: Code commented and laid out in segments for easier searching and alterations. \n",
    "\n",
    "### Design\n",
    "\n",
    "#### Scalability: The linked list can store as many elements as the system memory can hold, and can be used in other programs other than this one.\n",
    "\n",
    "#### Robustness: An error message is returned if a remove operation is performed on an empty linked list."
   ]
  },
  {
   "cell_type": "code",
   "execution_count": 116,
   "metadata": {},
   "outputs": [],
   "source": [
    "# Linked List class\n",
    "class LinkedList:\n",
    "    \"\"\"\n",
    "    Included methods:  \n",
    "              get_size:                Return size of the linked list\n",
    "              is_empty:                Return true if empty, false if not\n",
    "              insert_at_head:          Insert new node at the head\n",
    "              insert_at_tail:          Insert new node at the tail\n",
    "              insert_at_tank:          Insert new node at rank r\n",
    "              remove_at_head:          Remove element at the head\n",
    "              remove_at_rank:          Remove element at rank r\n",
    "              traverse:                Move through the linked list\n",
    "              search:                  Search for an element within the linked list\n",
    "    \"\"\"\n",
    "    \n",
    "    # Create node for linked list\n",
    "    class _Node:\n",
    "    \n",
    "        def __init__(self, value):\n",
    "            self.value = value\n",
    "            self.next = None\n",
    "    \n",
    "    # Initialise linked list, with head and tail pointing to nothing, and size = 0\n",
    "    def __init__(self):\n",
    "        self.head_value = None\n",
    "        self.tail_value = None\n",
    "        self.size = 0\n",
    "               \n",
    "    # Return size of the linked list        \n",
    "    def get_size(self):\n",
    "        return self.size\n",
    "    \n",
    "    # Return true if the value of the head is null\n",
    "    def is_empty(self):\n",
    "        return self.head_value == None\n",
    "    \n",
    "    # Insert node at head\n",
    "    def insert_at_head(self, value):\n",
    "        new_node = self._Node(value)\n",
    "        if self.is_empty():\n",
    "            self.head_value = new_node\n",
    "            self.tail_value = new_node\n",
    "        else:\n",
    "            new_node.next = self.head_value\n",
    "            self.head_value = new_node\n",
    "        self.size += 1\n",
    "        \n",
    "    # Insert node at tail\n",
    "    def insert_at_tail(self, value):\n",
    "        new_node = self._Node(value)\n",
    "        self.tail_value.next = new_node\n",
    "        self.tail_value = new_node\n",
    "        self.size += 1\n",
    "        \n",
    "    # Insert node at rank r    \n",
    "    def insert_at_rank(self, r, value):\n",
    "        new_node = self._Node(value)\n",
    "        r = self.search(r)\n",
    "        new_node.next = r.next\n",
    "        r.next = new_node\n",
    "        self.size += 1\n",
    "        \n",
    "    # Remove node at head\n",
    "    def remove_at_head(self):\n",
    "        if self.is_empty():\n",
    "            return(\"Can't remove from an empty linked list\")\n",
    "        old_head = self.head_value\n",
    "        self.head_value = self.head_value.next\n",
    "        old_head.next = None\n",
    "        self.size -= 1\n",
    "    \n",
    "    # Remove node at rank\n",
    "    def remove_at_rank(self, r):\n",
    "        if self.is_empty():\n",
    "            return(\"Can't remove from an empty linked list\") \n",
    "        r = self.search(r)\n",
    "        old_node = r.next\n",
    "        r.next = old_node.next\n",
    "        old_node.next = None\n",
    "        self.size -= 1\n",
    "        \n",
    "    # Move through the list\n",
    "    def traverse(self):\n",
    "        pointer = self.head_value\n",
    "        while pointer != None:\n",
    "            pointer = pointer.next\n",
    "        return pointer\n",
    "    \n",
    "    # Search for value within the linked list\n",
    "    def search(self, r):\n",
    "        pointer = self.head_value\n",
    "        found = False\n",
    "        while pointer != None and found == False:\n",
    "            if pointer.value == r:\n",
    "                found = True\n",
    "            else:\n",
    "                pointer = pointer.next\n",
    "        return pointer\n",
    "    \n",
    "# find head = constant\n",
    "# find tail = constant\n",
    "# insert at x = constant if on the node, otherwise n\n",
    "# insert at head = constant\n",
    "# insert at tail = constant as it's stored\n",
    "# traverse = n\n",
    "# size = constant, as it's stored\n",
    "# search = constant if on the node, otherwise n\n",
    "# empty = constant\n",
    "# remove = constant if on the node, otherwise n\n"
   ]
  },
  {
   "cell_type": "markdown",
   "metadata": {},
   "source": [
    "## Unit testing for Linked List "
   ]
  },
  {
   "cell_type": "code",
   "execution_count": 117,
   "metadata": {},
   "outputs": [
    {
     "name": "stderr",
     "output_type": "stream",
     "text": [
      "test_empty_remove (__main__.LinkedListTesters) ... ok\n",
      "test_get_size (__main__.LinkedListTesters) ... ok\n",
      "test_head (__main__.LinkedListTesters) ... ok\n",
      "test_insert_at_head_1 (__main__.LinkedListTesters) ... ok\n",
      "test_insert_at_head_2 (__main__.LinkedListTesters) ... ok\n",
      "test_insert_at_head_3 (__main__.LinkedListTesters) ... ok\n",
      "test_insert_at_rank (__main__.LinkedListTesters) ... ok\n",
      "test_insert_at_tail (__main__.LinkedListTesters) ... ok\n",
      "test_is_empty (__main__.LinkedListTesters) ... ok\n",
      "test_remove_at_head (__main__.LinkedListTesters) ... ok\n",
      "test_remove_at_rank (__main__.LinkedListTesters) ... ok\n",
      "test_search_1 (__main__.LinkedListTesters) ... ok\n",
      "test_search_2 (__main__.LinkedListTesters) ... ok\n",
      "test_traverse (__main__.LinkedListTesters) ... ok\n",
      "test_create_aircraft (__main__.aircraft_unit_tests) ... ok\n",
      "test_get_distance (__main__.aircraft_unit_tests) ... ok\n",
      "test_get_fuel (__main__.aircraft_unit_tests) ... ok\n",
      "test_get_fuel_needed (__main__.aircraft_unit_tests) ... ok\n",
      "test_get_maxfuel (__main__.aircraft_unit_tests) ... ok\n",
      "test_get_name (__main__.aircraft_unit_tests) ... ok\n",
      "test_get_units (__main__.aircraft_unit_tests) ... ok\n",
      "test_refuel (__main__.aircraft_unit_tests) ... ok\n",
      "test_repr (__main__.aircraft_unit_tests) ... ok\n",
      "test_calculateCostPerPermutation (__main__.bruteF_unit_tests) ... ok\n",
      "test_create_permutations (__main__.bruteF_unit_tests) ... ok\n",
      "test_removeUnwantedPermutations (__main__.bruteF_unit_tests) ... ok\n",
      "\n",
      "----------------------------------------------------------------------\n",
      "Ran 26 tests in 0.023s\n",
      "\n",
      "OK\n"
     ]
    },
    {
     "data": {
      "text/plain": [
       "<unittest.main.TestProgram at 0x203e1a51fd0>"
      ]
     },
     "execution_count": 117,
     "metadata": {},
     "output_type": "execute_result"
    }
   ],
   "source": [
    "class LinkedListTesters(unittest.TestCase):\n",
    "    \n",
    "    # Test if new linkedlist has no value for it's head (and thus empty)\n",
    "    def test_head(self):\n",
    "        t = LinkedList()\n",
    "        self.assertEqual(t.head_value, None)\n",
    "    \n",
    "    # Test removing from an empty linked list\n",
    "    def test_empty_remove(self):\n",
    "        t = LinkedList()\n",
    "        self.assertEqual(t.remove_at_head(), \"Can't remove from an empty linked list\")\n",
    "        \n",
    "    # Test if size is correct after certain amount of values entered\n",
    "    def test_get_size(self):\n",
    "        t = LinkedList()\n",
    "        for letter in [\"A\", \"B\", \"C\", \"D\"]:\n",
    "            t.insert_at_head(letter)\n",
    "        self.assertEqual(t.get_size(), 4)\n",
    "    \n",
    "    # Test if linked list is empty\n",
    "    def test_is_empty(self):\n",
    "        t = LinkedList()\n",
    "        self.assertTrue(t.is_empty())\n",
    "    \n",
    "    # Test if linked list is empty after nodes added\n",
    "    def test_insert_at_head_1(self):\n",
    "        t = LinkedList()\n",
    "        for letter in [\"A\", \"B\", \"C\", \"D\"]:\n",
    "            t.insert_at_head(letter)\n",
    "        self.assertFalse(t.is_empty())\n",
    "        \n",
    "    # Test that last node's value inserted at the head is the value of head \n",
    "    def test_insert_at_head_2(self):\n",
    "        t = LinkedList()\n",
    "        for letter in [\"A\", \"B\", \"C\", \"D\"]:\n",
    "            t.insert_at_head(letter)\n",
    "        self.assertEqual(t.head_value.value, \"D\")\n",
    "        \n",
    "    # Test that first node's value inserted at the head is the value of tail\n",
    "    def test_insert_at_head_3(self):\n",
    "        t = LinkedList()\n",
    "        for letter in [\"A\", \"B\", \"C\", \"D\"]:\n",
    "            t.insert_at_head(letter)\n",
    "        self.assertEqual(t.tail_value.value, \"A\")\n",
    "        \n",
    "    # Test that the linked list is traversable, and when it reaches the end it returns null\n",
    "    def test_traverse(self):\n",
    "        t = LinkedList()\n",
    "        for letter in [\"A\", \"B\", \"C\", \"D\"]:\n",
    "            t.insert_at_head(letter)\n",
    "        self.assertEqual(t.traverse(), None)    \n",
    "        \n",
    "    # Test that searching for a value after it has been entered returns that value\n",
    "    def test_search_1(self):\n",
    "        t = LinkedList()\n",
    "        for letter in [\"A\", \"B\", \"C\", \"D\"]:\n",
    "            t.insert_at_head(letter)\n",
    "        self.assertEqual(t.search(\"C\").value, \"C\")  \n",
    "        \n",
    "    # Test that searching for a value that has not been entered returns null\n",
    "    def test_search_2(self):\n",
    "        t = LinkedList()\n",
    "        for letter in [\"A\", \"B\", \"C\", \"D\"]:\n",
    "            t.insert_at_head(letter)\n",
    "        self.assertEqual(t.search(\"Z\"), None)  \n",
    "        \n",
    "    # Test that a node's value which has been inserted at the tail is the value of the tail\n",
    "    def test_insert_at_tail(self):\n",
    "        t = LinkedList()\n",
    "        for letter in [\"A\", \"B\", \"C\", \"D\"]:\n",
    "            t.insert_at_head(letter)\n",
    "        t.insert_at_tail(\"Z\")\n",
    "        self.assertEqual(t.tail_value.value, \"Z\")\n",
    "        \n",
    "    # Test that inserting at a specific rank works\n",
    "    def test_insert_at_rank(self):\n",
    "        t = LinkedList()\n",
    "        for letter in [\"A\", \"B\", \"C\", \"D\"]:\n",
    "            t.insert_at_head(letter)\n",
    "        t.insert_at_rank(\"B\", \"Z\")\n",
    "        self.assertEqual(t.search(\"B\").next.value, \"Z\")\n",
    "        \n",
    "    # Test that removing at the head of the linked list works\n",
    "    def test_remove_at_head(self):\n",
    "        t = LinkedList()\n",
    "        for letter in [\"A\", \"B\", \"C\", \"D\"]:\n",
    "            t.insert_at_head(letter)\n",
    "        t.remove_at_head()\n",
    "        t.remove_at_head()\n",
    "        self.assertEqual(t.head_value.value, \"B\")\n",
    "        \n",
    "    # Test that removing at rank works\n",
    "    def test_remove_at_rank(self):\n",
    "        t = LinkedList()\n",
    "        for letter in [\"A\", \"B\", \"C\", \"D\"]:\n",
    "            t.insert_at_head(letter)\n",
    "        t.remove_at_rank(\"C\")\n",
    "        self.assertEqual(t.search(\"C\").next.value, \"A\") \n",
    "\n",
    "unittest.main(argv=[''], verbosity=3, exit=False)"
   ]
  },
  {
   "cell_type": "markdown",
   "metadata": {},
   "source": [
    "### Run times\n",
    "\n",
    "%%timeit shows more accurate timings, but doesn't store variables, and thus the code is also declare in non %%timeit cells"
   ]
  },
  {
   "cell_type": "code",
   "execution_count": 106,
   "metadata": {},
   "outputs": [
    {
     "name": "stdout",
     "output_type": "stream",
     "text": [
      "308 ns ± 14.9 ns per loop (mean ± std. dev. of 7 runs, 1000000 loops each)\n"
     ]
    }
   ],
   "source": [
    "%%timeit\n",
    "runTimeTestLL = LinkedList()"
   ]
  },
  {
   "cell_type": "code",
   "execution_count": 107,
   "metadata": {},
   "outputs": [
    {
     "name": "stdout",
     "output_type": "stream",
     "text": [
      "38.8 ns ± 4.15 ns per loop (mean ± std. dev. of 7 runs, 10000000 loops each)\n"
     ]
    }
   ],
   "source": [
    "%%timeit\n",
    "pythonDict = {}"
   ]
  },
  {
   "cell_type": "code",
   "execution_count": 108,
   "metadata": {},
   "outputs": [],
   "source": [
    "runTimeTestLL = LinkedList()"
   ]
  },
  {
   "cell_type": "code",
   "execution_count": 109,
   "metadata": {},
   "outputs": [],
   "source": [
    "pythonDict = {}"
   ]
  },
  {
   "cell_type": "code",
   "execution_count": 110,
   "metadata": {},
   "outputs": [
    {
     "name": "stdout",
     "output_type": "stream",
     "text": [
      "8.96 µs ± 736 ns per loop (mean ± std. dev. of 7 runs, 100000 loops each)\n"
     ]
    }
   ],
   "source": [
    "%%timeit\n",
    "for i in ['A','B','C','D','E', 'F', 'G', 'H', 'I', 'J', 'k']:\n",
    "    runTimeTestLL.insert_at_head(i)"
   ]
  },
  {
   "cell_type": "code",
   "execution_count": 111,
   "metadata": {},
   "outputs": [
    {
     "name": "stdout",
     "output_type": "stream",
     "text": [
      "703 ns ± 112 ns per loop (mean ± std. dev. of 7 runs, 1000000 loops each)\n"
     ]
    }
   ],
   "source": [
    "%%timeit\n",
    "for i in ['A','B','C','D','E', 'F', 'G', 'H', 'I', 'J', 'k']:\n",
    "    pythonDict[i] = 'placeholder'"
   ]
  },
  {
   "cell_type": "code",
   "execution_count": 112,
   "metadata": {},
   "outputs": [],
   "source": [
    "for i in ['A','B','C','D','E', 'F', 'G', 'H', 'I', 'J', 'k']:\n",
    "    runTimeTestLL.insert_at_head(i)"
   ]
  },
  {
   "cell_type": "code",
   "execution_count": 113,
   "metadata": {},
   "outputs": [],
   "source": [
    "for i in ['A','B','C','D','E', 'F', 'G', 'H', 'I', 'J', 'k']:\n",
    "    pythonDict[i] = 'placeholder'"
   ]
  },
  {
   "cell_type": "code",
   "execution_count": 114,
   "metadata": {},
   "outputs": [
    {
     "name": "stdout",
     "output_type": "stream",
     "text": [
      "150 ns ± 6.03 ns per loop (mean ± std. dev. of 7 runs, 10000000 loops each)\n"
     ]
    }
   ],
   "source": [
    "%%timeit\n",
    "runTimeTestLL.is_empty()\n"
   ]
  },
  {
   "cell_type": "code",
   "execution_count": 115,
   "metadata": {},
   "outputs": [
    {
     "name": "stdout",
     "output_type": "stream",
     "text": [
      "96 ns ± 5.63 ns per loop (mean ± std. dev. of 7 runs, 10000000 loops each)\n"
     ]
    }
   ],
   "source": [
    "%%timeit\n",
    "bool(pythonDict)\n"
   ]
  },
  {
   "cell_type": "markdown",
   "metadata": {},
   "source": [
    "## Summary\n",
    "\n",
    "#### I’ve learned that proper planning in advance can make the implementation of a program easier, and deciding which algorithms and data structures to use determines how your final program will run, with certain trade-offs depending on what you used to complete the task. The importance of unit testing was also learned, as it helped guide the building of the program, with each unit test being a step towards the end goal.\n",
    "\n",
    "#### I learned how valuable it was to choose the correct data structure and algorithms, and the importance of deciding what to keep and what to remove. We made a lot of extra functions which didn’t make the final cut because they would have added to the run time with no benefits.  \n",
    "\n",
    "#### If I was to do the project again, I wouldn’t focus on getting as many data structures and algorithms packed in as I can just to show we know how to use them, and instead just use what I know I need now, and what I might need in the future.\n",
    "\n",
    "#### Fom a technical perspective, I've learned about importing other people's work, permutations, and how to implement hash tables, graphs, and unit testing.\n"
   ]
  },
  {
   "cell_type": "code",
   "execution_count": null,
   "metadata": {},
   "outputs": [],
   "source": []
  },
  {
   "cell_type": "code",
   "execution_count": null,
   "metadata": {},
   "outputs": [],
   "source": []
  }
 ],
 "metadata": {
  "kernelspec": {
   "display_name": "Python 3",
   "language": "python",
   "name": "python3"
  },
  "language_info": {
   "codemirror_mode": {
    "name": "ipython",
    "version": 3
   },
   "file_extension": ".py",
   "mimetype": "text/x-python",
   "name": "python",
   "nbconvert_exporter": "python",
   "pygments_lexer": "ipython3",
   "version": "3.7.0"
  }
 },
 "nbformat": 4,
 "nbformat_minor": 2
}
